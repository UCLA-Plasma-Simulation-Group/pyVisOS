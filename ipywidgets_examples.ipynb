{
 "cells": [
  {
   "cell_type": "markdown",
   "metadata": {},
   "source": [
    "# Ipywidgets Examples"
   ]
  },
  {
   "cell_type": "code",
   "execution_count": 9,
   "metadata": {},
   "outputs": [],
   "source": [
    "%matplotlib widget\n",
    "import numpy as np\n",
    "import ipywidgets  # don't need to import this if you only use ipywidgets provided by osh5visipy.py\n",
    "import osh5def\n",
    "import osh5visipy"
   ]
  },
  {
   "cell_type": "markdown",
   "metadata": {},
   "source": [
    "### supported version\n",
    "osh5visipy.py is developed with jupyter version 4.4.0, ipywidgets version 7.4.2.\n",
    "\n",
    "Check your enviroment below."
   ]
  },
  {
   "cell_type": "code",
   "execution_count": 10,
   "metadata": {},
   "outputs": [
    {
     "name": "stdout",
     "output_type": "stream",
     "text": [
      "4.4.0\n",
      "7.4.2\n"
     ]
    }
   ],
   "source": [
    "!jupyter --version\n",
    "print(ipywidgets.__version__)"
   ]
  },
  {
   "cell_type": "markdown",
   "metadata": {},
   "source": [
    "## Construct some synthetic data"
   ]
  },
  {
   "cell_type": "code",
   "execution_count": null,
   "metadata": {},
   "outputs": [],
   "source": [
    "# Here are the two axes\n",
    "x = osh5def.DataAxis(-1, 1, 50, attrs={'NAME':'p1', 'LONG_NAME':'p_1', 'UNITS':'c m_e'})\n",
    "y = osh5def.DataAxis(-2, 2, 100, attrs={'NAME':'p2', 'LONG_NAME':'p_2', 'UNITS':'c m_e'})\n",
    "z = osh5def.DataAxis(-1.5, 1.5, 100, attrs={'NAME':'p2', 'LONG_NAME':'p_2', 'UNITS':'c m_e'})\n",
    "\n",
    "# # More attributes associated with the data/simulation.\n",
    "data_attrs = {'UNITS': osh5def.OSUnits('m_e c \\omega_p / e'), 'NAME': 'f', 'LONG_NAME': 'f_e'}\n",
    "run_attrs = {'TIME': [0.0], 'TIME UNITS': '1/\\omega_p'}\n",
    "\n",
    "# construct 2D data\n",
    "xx, yy = np.meshgrid(x.ax, y.ax, sparse=True)\n",
    "a = xx**2 + yy**2 + 0.2\n",
    "data2D = osh5def.H5Data(a, timestamp='123456', data_attrs=data_attrs, run_attrs=run_attrs, axes=[y, x])\n",
    "\n",
    "# construct 3D data\n",
    "xx, yy, zz = np.meshgrid(x.ax, y.ax, z.ax, sparse=True)\n",
    "a = xx**2 + yy**2 + zz**2\n",
    "data3D = osh5def.H5Data(a, timestamp='123456', data_attrs=data_attrs, run_attrs=run_attrs, axes=[z, y, x])"
   ]
  },
  {
   "cell_type": "markdown",
   "metadata": {},
   "source": [
    "## Docstring of osimshow_w\n",
    "interactive GUI for matplotlib.imshow.\n",
    "\n",
    "Similar GUI works for matplotlib.contour and matplotlib.contourf. See docstrings for osh5visipy.oscontour_w and osh5visipy.oscontourf_w."
   ]
  },
  {
   "cell_type": "code",
   "execution_count": 11,
   "metadata": {},
   "outputs": [
    {
     "name": "stdout",
     "output_type": "stream",
     "text": [
      "\n",
      "    2D plot with widgets\n",
      "    :param data: (list of) 2D H5Data\n",
      "    :param args: arguments passed to 2d plotting widgets. reserved for future use\n",
      "    :param show: whether to show the widgets\n",
      "    :param grid: a tuple (row, column) specifying the layout of subplots. Must be set when plotting more than one subplot\n",
      "    :param kwargs: keyword arguments passed to 2d plotting widgets. reserved for future use\n",
      "    :return: if show == True return None otherwise return a list of widgets\n",
      "\n",
      "    example usage:\n",
      "        osimshow_w(filename)  # filename is a string, display imshow of the file with filename\n",
      "\n",
      "        osimshow_w(data)  # data is a H5Data variable, display imshow of data\n",
      "\n",
      "        osimshow_w((filename1, filename2, filename3), grid=(3,1))  # display imshow of 3 files in 3 rows\n",
      "\n",
      "        osimshow_w((data1, data2, data3, data4), grid=(2,2))  # display imshow of 4  H5Data variables in a 2 by 2 grid\n",
      "\n"
     ]
    }
   ],
   "source": [
    "print(osh5visipy.osimshow_w.__doc__)"
   ]
  },
  {
   "cell_type": "markdown",
   "metadata": {},
   "source": [
    "## Display single contourf plot\n",
    "You need to run the following cell in a jupyter server to see the widgets."
   ]
  },
  {
   "cell_type": "code",
   "execution_count": null,
   "metadata": {},
   "outputs": [],
   "source": [
    "osh5visipy.oscontourf_w(data2D, cmap='tab10')  # replace data2D with a filename of 2D data will also work"
   ]
  },
  {
   "cell_type": "markdown",
   "metadata": {},
   "source": [
    "## Display two imshow plots side by side"
   ]
  },
  {
   "cell_type": "code",
   "execution_count": null,
   "metadata": {},
   "outputs": [],
   "source": [
    "noise = np.random.normal(size=data2D.size).reshape(data2D.shape)*0.1\n",
    "osh5visipy.osimshow_w((data2D, data2D-noise), grid=(1, 2), figsize=(10, 4))"
   ]
  },
  {
   "cell_type": "markdown",
   "metadata": {},
   "source": [
    "## Slicing the 3D data"
   ]
  },
  {
   "cell_type": "code",
   "execution_count": null,
   "metadata": {},
   "outputs": [],
   "source": [
    "osh5visipy.slicer_w(data3D)"
   ]
  },
  {
   "cell_type": "markdown",
   "metadata": {},
   "source": [
    "## slicer_w can do more ...\n",
    "Notably, it will let you walk through a directory (or directories) of files. See the docstring for more usage examples."
   ]
  },
  {
   "cell_type": "code",
   "execution_count": 12,
   "metadata": {},
   "outputs": [
    {
     "data": {
      "text/plain": [
       "\u001b[0;31mSignature:\u001b[0m \u001b[0mosh5visipy\u001b[0m\u001b[0;34m.\u001b[0m\u001b[0mslicer_w\u001b[0m\u001b[0;34m(\u001b[0m\u001b[0mdata\u001b[0m\u001b[0;34m,\u001b[0m \u001b[0;34m*\u001b[0m\u001b[0margs\u001b[0m\u001b[0;34m,\u001b[0m \u001b[0mshow\u001b[0m\u001b[0;34m=\u001b[0m\u001b[0;32mTrue\u001b[0m\u001b[0;34m,\u001b[0m \u001b[0mslider_only\u001b[0m\u001b[0;34m=\u001b[0m\u001b[0;32mFalse\u001b[0m\u001b[0;34m,\u001b[0m \u001b[0;34m**\u001b[0m\u001b[0mkwargs\u001b[0m\u001b[0;34m)\u001b[0m\u001b[0;34m\u001b[0m\u001b[0;34m\u001b[0m\u001b[0m\n",
       "\u001b[0;31mDocstring:\u001b[0m\n",
       "A slider for 3D data\n",
       ":param data: (a list of) 3D H5Data or directory name (a string)\n",
       ":param args: arguments passed to plotting widgets. reserved for future use\n",
       ":param show: whether to show the widgets\n",
       ":param slider_only: if True only show the slider otherwise show also other plot control (aka 'the tab')\n",
       ":param kwargs: keyword arguments passed to 2d plotting widgets. reserved for future use\n",
       ":return: whatever widgets that are not shown\n",
       "example usage:\n",
       "    slicer_w(dirname)  # dirname is the name of a directory, display the quantity inside dirname,\n",
       "                       # slider bar let you choose which file to display\n",
       "\n",
       "    slicer_w(data)  # data is a 3d H5Data variable, slider bar let you choose the position along certain axis\n",
       "\n",
       "    slicer_w((dirname1, dirname2, dirname3, dirname4), grid=(2, 2))  # display 4 subplots in a 2 by 2 grid,\n",
       "                                                                     # slider bar let you choose which time step to display,\n",
       "                                                                     # number of files in dirname# should be the same\n",
       "\u001b[0;31mFile:\u001b[0m      /global/u1/w/wenhan/source/pyvisos/osh5visipy.py\n",
       "\u001b[0;31mType:\u001b[0m      function\n"
      ]
     },
     "metadata": {},
     "output_type": "display_data"
    }
   ],
   "source": [
    "osh5visipy.slicer_w?"
   ]
  },
  {
   "cell_type": "code",
   "execution_count": null,
   "metadata": {},
   "outputs": [],
   "source": []
  }
 ],
 "metadata": {
  "kernelspec": {
   "display_name": "Python 3",
   "language": "python",
   "name": "python3"
  },
  "language_info": {
   "codemirror_mode": {
    "name": "ipython",
    "version": 3
   },
   "file_extension": ".py",
   "mimetype": "text/x-python",
   "name": "python",
   "nbconvert_exporter": "python",
   "pygments_lexer": "ipython3",
   "version": "3.6.8"
  }
 },
 "nbformat": 4,
 "nbformat_minor": 2
}
