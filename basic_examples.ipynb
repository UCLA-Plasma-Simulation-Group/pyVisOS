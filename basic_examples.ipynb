{
 "cells": [
  {
   "cell_type": "markdown",
   "metadata": {},
   "source": [
    "# Basic Examples\n",
    "This notebook illustrates the basic functions in this repository."
   ]
  },
  {
   "cell_type": "code",
   "execution_count": 1,
   "metadata": {
    "collapsed": true
   },
   "outputs": [],
   "source": [
    "%matplotlib inline\n",
    "import numpy as np\n",
    "import sys\n",
    "\n",
    "import osh5io\n",
    "import osh5def\n",
    "import osh5vis\n",
    "import osh5utils\n",
    "import matplotlib.pyplot as plt"
   ]
  },
  {
   "cell_type": "markdown",
   "metadata": {},
   "source": [
    "## Basic IO\n",
    "The following section show how to write/read hdf5 data with osh5io. \n",
    "\n",
    "We first make up heuristic data similar to OSIRIS output format and write it to disk. We then read the file and plot it with osh5vis."
   ]
  },
  {
   "cell_type": "markdown",
   "metadata": {},
   "source": [
    "#### Create the data"
   ]
  },
  {
   "cell_type": "code",
   "execution_count": 2,
   "metadata": {
    "collapsed": true
   },
   "outputs": [],
   "source": [
    "# The actural data is a numpy array\n",
    "a = np.arange(30.0).reshape((6, 5))\n",
    "\n",
    "# Here are the two axes. Don't worry about the details because you will get them when reading from the real simulation data\n",
    "x = osh5def.DataAxis(10, 15, 5, attrs={'NAME':'x1', 'LONG_NAME':'x_1', 'UNITS':osh5def.OSUnits('c / \\omega_p')})\n",
    "y = osh5def.DataAxis(0, 1, 6, attrs={'NAME':'t', 'LONG_NAME':'time', 'UNITS':osh5def.OSUnits('1 / \\omega_p')})\n",
    "\n",
    "# More attributes associated with the data/simulation. Again no need to worry about the details.\n",
    "data_attrs = {'UNITS': osh5def.OSUnits('m_e c \\omega_p / e'), 'NAME': 'e1', 'LONG_NAME': 'E_1'}\n",
    "run_attrs = {'NOTE': 'parameters about this simulation are stored here'}\n",
    "\n",
    "# Now \"wrap\" the numpy array into osh5def.H5Data. Note that the data and the axes are consistent and are in fortran ordering\n",
    "b = osh5def.H5Data(a, timestamp='123456', name='e1', data_attrs=data_attrs, run_attrs=run_attrs, axes=[y, x])"
   ]
  },
  {
   "cell_type": "markdown",
   "metadata": {},
   "source": [
    "#### Write data to disk\n",
    "Note that without supplying the output filename, write_h5 will use the '*name*' and '*timestamp*' to construct\n",
    "the filename and write to current directory."
   ]
  },
  {
   "cell_type": "code",
   "execution_count": 3,
   "metadata": {
    "collapsed": true
   },
   "outputs": [],
   "source": [
    "osh5io.write_h5(b)"
   ]
  },
  {
   "cell_type": "markdown",
   "metadata": {},
   "source": [
    "#### Read the data back and do basic inspection\n",
    "note that there are more entries in the run_attrs dictionary. They would have got proper values if reading from real simulation data. "
   ]
  },
  {
   "cell_type": "code",
   "execution_count": 4,
   "metadata": {},
   "outputs": [
    {
     "data": {
      "text/plain": [
       "osh5def.H5Data at 0x2abc9352b208, shape(6, 5),\n",
       "axis:\n",
       "  osh5def.DataAxis at 0x2abc9353d710: size=6, (min, max)=(0.0, 0.99999999999999989), {'LONG_NAME': 'time', 'UNITS': osh5def.OSUnits at 0x2abc9353d748: ['m_e', 'c', '\\\\omega_p', 'e', 'n_0']=[0, 0, -1, 0, 0], 'NAME': 't'}\n",
       "  osh5def.DataAxis at 0x2abc9353d898: size=5, (min, max)=(10.0, 15.0), {'LONG_NAME': 'x_1', 'UNITS': osh5def.OSUnits at 0x2abc9353d978: ['m_e', 'c', '\\\\omega_p', 'e', 'n_0']=[0, 1, -1, 0, 0], 'NAME': 'x1'}\n",
       "data_attrs: {'LONG_NAME': 'E_1', 'UNITS': osh5def.OSUnits at 0x2abc9353d7b8: ['m_e', 'c', '\\\\omega_p', 'e', 'n_0']=[1, 1, 1, -1, 0], 'NAME': 'e1'}\n",
       "run_attrs:{'PERIODIC': array([0]), 'TIME UNITS': '', 'TIME': array([ 0.]), 'MOVE C': array([0]), 'XMAX': array([ 0.]), 'XMIN': array([ 0.]), 'DT': array([ 1.]), 'ITER': array([0]), 'NOTE': 'parameters about this simulation are stored here', 'TYPE': 'grid'}"
      ]
     },
     "execution_count": 4,
     "metadata": {},
     "output_type": "execute_result"
    }
   ],
   "source": [
    "# ./e1-123456.h5 is the data we just write out\n",
    "c = osh5io.read_h5('./e1-123456.h5')\n",
    "\n",
    "# print(repr(c))\n",
    "c"
   ]
  },
  {
   "cell_type": "markdown",
   "metadata": {},
   "source": [
    "#### Plot\n",
    "Since the axes are part of the object, it is enough to supply only the object as the argument to get a nice plot with axis label etc."
   ]
  },
  {
   "cell_type": "code",
   "execution_count": 5,
   "metadata": {},
   "outputs": [
    {
     "data": {
      "text/plain": [
       "<matplotlib.image.AxesImage at 0x2abcc5e68828>"
      ]
     },
     "execution_count": 5,
     "metadata": {},
     "output_type": "execute_result"
    },
    {
     "data": {
      "image/png": "[encoded data removed]",
      "text/plain": [
       "<matplotlib.figure.Figure at 0x2abc9027aac8>"
      ]
     },
     "metadata": {},
     "output_type": "display_data"
    }
   ],
   "source": [
    "osh5vis.osplot(c)"
   ]
  },
  {
   "cell_type": "markdown",
   "metadata": {},
   "source": [
    "## Basic functions/operations\n",
    "The H5Data is a subclass of numpy ndarray, so *theoretically* it supports all functions that take ndarray as input.\n",
    "\n",
    "In the following cell we plot the square (and the FFT) of the field. Note that the unit of the data (and the axis) will change automatically."
   ]
  },
  {
   "cell_type": "code",
   "execution_count": 6,
   "metadata": {},
   "outputs": [
    {
     "data": {
      "text/plain": [
       "<matplotlib.image.AxesImage at 0x2abcc60532b0>"
      ]
     },
     "execution_count": 6,
     "metadata": {},
     "output_type": "execute_result"
    },
    {
     "data": {
      "image/png": "[encoded data removed]",
      "text/plain": [
       "<matplotlib.figure.Figure at 0x2abcc5f4d208>"
      ]
     },
     "metadata": {},
     "output_type": "display_data"
    }
   ],
   "source": [
    "d = c**2\n",
    "# For now user has to change the name attribute manually. We might automate these kind of basic routines depending on the feedback.\n",
    "d.data_attrs['LONG_NAME'] += '^2'\n",
    "plt.figure(figsize=[18,5])\n",
    "plt.subplot(121)\n",
    "osh5vis.osplot(d)\n",
    "\n",
    "# Please use the FFT in osh5utils so that the axes are handled correctly. The FFT interfaces are identical to the numpy ones.\n",
    "# also note that we can use np.abs directly on our data.\n",
    "e = np.abs(osh5utils.fft(d, axis=0))\n",
    "plt.subplot(122)\n",
    "osh5vis.osplot(e)"
   ]
  },
  {
   "cell_type": "markdown",
   "metadata": {},
   "source": [
    "## Some unique features\n",
    "One of the motivations of writing this library is to bundle the metadata and the data. Most importantly, we can manipulate the data without constantly adjusting/keeping track of the axes data. We have seen some of these in the FFT example above. I am going to show a bit more in the following cells."
   ]
  },
  {
   "cell_type": "code",
   "execution_count": 7,
   "metadata": {},
   "outputs": [
    {
     "data": {
      "text/plain": [
       "[<matplotlib.lines.Line2D at 0x2abcc63dac88>]"
      ]
     },
     "execution_count": 7,
     "metadata": {},
     "output_type": "execute_result"
    },
    {
     "data": {
      "image/png": "[encoded data removed]",
      "text/plain": [
       "<matplotlib.figure.Figure at 0x2abcc616ea20>"
      ]
     },
     "metadata": {},
     "output_type": "display_data"
    }
   ],
   "source": [
    "plt.figure(figsize=[18,10])\n",
    "\n",
    "# ================================ EXAMPLE 1, upper left ==========================================\n",
    "# if we want to switch the axes of the image, it feels natural to plot transposed 2d array and we can just do that. \n",
    "# Note that we can also use np.transpose(c) or c.transpose()\n",
    "plt.subplot(221)\n",
    "osh5vis.osplot(c.T)\n",
    "\n",
    "# ================================ EXAMPLE 2, upper right ==========================================\n",
    "# Let's plot the FFT again but this time we transform both in time and space\n",
    "# Note the label and unit of each axis are handled differently. And axes are shifted.\n",
    "plt.subplot(222)\n",
    "f = osh5utils.fft2(c)\n",
    "osh5vis.osplot(np.abs(f))\n",
    "\n",
    "# ================================ EXAMPLE 3, lower left ==========================================\n",
    "# Now let's do the inverse FFT on data f in previous example\n",
    "# Note that the 'x1' axis does not start from 0; this information is preserved after fft/ifft transform pair\n",
    "plt.subplot(223)\n",
    "g = np.abs(osh5utils.ifft2(f))\n",
    "osh5vis.osplot(g)\n",
    "\n",
    "# ================================ EXAMPLE 4, lower right ==========================================\n",
    "# slicing/indexing the data will return data with corresponding axes. More on this in next cell\n",
    "plt.subplot(224)\n",
    "plt.title('$x_1$ = %1.1f [%s]' % (float(c.axes[1][2]), c.axes[1].attrs['UNITS'].tex()))\n",
    "osh5vis.osplot(c[:,2])"
   ]
  },
  {
   "cell_type": "markdown",
   "metadata": {},
   "source": [
    "In order to show more clearly the indexing/slicing feature, we first make a 3D data. Then I will demonstrate what happen to the axes when we use different indexing methods. All numpy ndarray indexing and slicing methods are supported.\n",
    "\n",
    "Basically we follow the indexing rules of the numpy array: If basic slicing and indexing is used, a view is returned; if advanced indexing is used, the H5Data object will be converted to an ndarray, in which case users are still directly interacting with the actual data, just that the advantage of data-metadata bundling is lost. In any cases, we discourage end users from fiddling with axes data values directly."
   ]
  },
  {
   "cell_type": "code",
   "execution_count": 8,
   "metadata": {},
   "outputs": [
    {
     "name": "stdout",
     "output_type": "stream",
     "text": [
      "---------------------------- EXAMPLE 1 ---------------------------------\n",
      "the z axis of h is [ 0.          0.14285714  0.28571429  0.42857143  0.57142857  0.71428571\n",
      "  0.85714286]\n",
      "the z axis of h[1:7:2, :, :] is [ 0.14285714  0.42857143  0.71428571]\n",
      "\n",
      "---------------------------- EXAMPLE 2 ---------------------------------\n",
      "the z axis of h[-2:7, :, :] is [ 0.71428571  0.85714286]\n",
      "\n",
      "---------------------------- EXAMPLE 3 ---------------------------------\n",
      "the z axis of h[-1:3:-1,:,:] is [ 0.85714286  0.71428571  0.57142857]\n",
      "\n",
      "---------------------------- EXAMPLE 4 ---------------------------------\n",
      "the z axis of h[5:, :, :] is [ 0.71428571  0.85714286]\n",
      "\n",
      "---------------------------- EXAMPLE 5 ---------------------------------\n",
      "the axes of h[:, 2] are\n",
      "p1: [0.0, 0.857142857143] m_e c \n",
      "x1: [10.0, 14.0] c \\omega_p^{-1} \n",
      "\n",
      "---------------------------- EXAMPLE 6 ---------------------------------\n",
      "the axes of h[..., 2:3] are\n",
      "p1: [0.0, 0.857142857143] m_e c \n",
      "t: [0.0, 0.833333333333] \\omega_p^{-1} \n",
      "x1: [12.0, 12.0] c \\omega_p^{-1} \n",
      "\n",
      "---------------------------- EXAMPLE 7 ---------------------------------\n",
      "the dimension of h[:,np.newaxis,:,:] is (7, 1, 6, 5) , and the axes are\n",
      "p1: [0.0, 0.857142857143] m_e c \n",
      ": [0.0, 0.0] a.u.\n",
      "t: [0.0, 0.833333333333] \\omega_p^{-1} \n",
      "x1: [10.0, 14.0] c \\omega_p^{-1} \n",
      "\n",
      "------------------------- advance indexing -----------------------------\n",
      "---------------------------- EXAMPLE 8 ---------------------------------\n",
      "result of h[h<15] is  <class 'numpy.ndarray'>\n",
      "[  0.   1.   2.   3.   4.   5.   6.   7.   8.   9.  10.  11.  12.  13.  14.]\n",
      "\n",
      "---------------------------- EXAMPLE 9 ---------------------------------\n",
      "result of h[[0, 1, 2], [0, 1, 0]] is  <class 'numpy.ndarray'>\n",
      "[[  0.   1.   2.   3.   4.]\n",
      " [ 35.  36.  37.  38.  39.]\n",
      " [ 60.  61.  62.  63.  64.]]\n",
      "\n",
      "---------------------------- EXAMPLE 10 ---------------------------------\n",
      "result of h[1:2, [1, 2]] is  <class 'numpy.ndarray'>\n",
      "[[[ 35.  36.  37.  38.  39.]\n",
      "  [ 40.  41.  42.  43.  44.]]]\n",
      "\n",
      "---------------------------- EXAMPLE 11 ---------------------------------\n",
      "After setting h[:6, [1, 2, 4, 5]] to 0, print the content of h:\n",
      " [[[   0.    1.    2.    3.    4.]\n",
      "  [   0.    0.    0.    0.    0.]\n",
      "  [   0.    0.    0.    0.    0.]\n",
      "  [  15.   16.   17.   18.   19.]\n",
      "  [   0.    0.    0.    0.    0.]\n",
      "  [   0.    0.    0.    0.    0.]]\n",
      "\n",
      " [[  30.   31.   32.   33.   34.]\n",
      "  [   0.    0.    0.    0.    0.]\n",
      "  [   0.    0.    0.    0.    0.]\n",
      "  [  45.   46.   47.   48.   49.]\n",
      "  [   0.    0.    0.    0.    0.]\n",
      "  [   0.    0.    0.    0.    0.]]\n",
      "\n",
      " [[  60.   61.   62.   63.   64.]\n",
      "  [   0.    0.    0.    0.    0.]\n",
      "  [   0.    0.    0.    0.    0.]\n",
      "  [  75.   76.   77.   78.   79.]\n",
      "  [   0.    0.    0.    0.    0.]\n",
      "  [   0.    0.    0.    0.    0.]]\n",
      "\n",
      " [[  90.   91.   92.   93.   94.]\n",
      "  [   0.    0.    0.    0.    0.]\n",
      "  [   0.    0.    0.    0.    0.]\n",
      "  [ 105.  106.  107.  108.  109.]\n",
      "  [   0.    0.    0.    0.    0.]\n",
      "  [   0.    0.    0.    0.    0.]]\n",
      "\n",
      " [[ 120.  121.  122.  123.  124.]\n",
      "  [   0.    0.    0.    0.    0.]\n",
      "  [   0.    0.    0.    0.    0.]\n",
      "  [ 135.  136.  137.  138.  139.]\n",
      "  [   0.    0.    0.    0.    0.]\n",
      "  [   0.    0.    0.    0.    0.]]\n",
      "\n",
      " [[ 150.  151.  152.  153.  154.]\n",
      "  [   0.    0.    0.    0.    0.]\n",
      "  [   0.    0.    0.    0.    0.]\n",
      "  [ 165.  166.  167.  168.  169.]\n",
      "  [   0.    0.    0.    0.    0.]\n",
      "  [   0.    0.    0.    0.    0.]]\n",
      "\n",
      " [[ 180.  181.  182.  183.  184.]\n",
      "  [ 185.  186.  187.  188.  189.]\n",
      "  [ 190.  191.  192.  193.  194.]\n",
      "  [ 195.  196.  197.  198.  199.]\n",
      "  [ 200.  201.  202.  203.  204.]\n",
      "  [ 205.  206.  207.  208.  209.]]]\n"
     ]
    }
   ],
   "source": [
    "# h is the 3D data used for illustration\n",
    "z = osh5def.DataAxis(0, 1, 7, attrs={'NAME':'p1', 'LONG_NAME':'p_1', 'UNITS':osh5def.OSUnits('m_e c')})\n",
    "h = osh5def.H5Data(np.arange(210.).reshape(7, 6, 5), data_attrs=data_attrs, run_attrs=run_attrs, axes=[z, y, x])\n",
    "\n",
    "# ===\n",
    "# The following examples mimic the numpy tutorial for array indexing but here we only concern about the axes\n",
    "# ===\n",
    "\n",
    "print('---------------------------- EXAMPLE 1 ---------------------------------')\n",
    "# x and y axes are not changed\n",
    "print('the z axis of h is', h.axes[0][:])\n",
    "print('the z axis of h[1:7:2, :, :] is', h[1:7:2, :, :].axes[0][:])\n",
    "\n",
    "print('\\n---------------------------- EXAMPLE 2 ---------------------------------')\n",
    "print('the z axis of h[-2:7, :, :] is', h[-2:7, :, :].axes[0][:])\n",
    "\n",
    "print('\\n---------------------------- EXAMPLE 3 ---------------------------------')\n",
    "# not sure why but you do reverse the order of axes (and data)\n",
    "print('the z axis of h[-1:3:-1,:,:] is', h[-1:3:-1,:,:].axes[0][:])\n",
    "\n",
    "print('\\n---------------------------- EXAMPLE 4 ---------------------------------')\n",
    "print('the z axis of h[5:, :, :] is', h[5:, :, :].axes[0][:])\n",
    "\n",
    "print('\\n---------------------------- EXAMPLE 5 ---------------------------------')\n",
    "# Note that y axis is not there any more\n",
    "print('the axes of h[:, 2] are')\n",
    "[print(ax) for ax in h[:,2].axes]\n",
    "\n",
    "print('\\n---------------------------- EXAMPLE 6 ---------------------------------')\n",
    "# usage of the ellipsis. also note that we can keep the degenerate axis with the same trick as in numpy\n",
    "print('the axes of h[..., 2:3] are')\n",
    "[print(ax) for ax in h[..., 2:3].axes]\n",
    "\n",
    "print('\\n---------------------------- EXAMPLE 7 ---------------------------------')\n",
    "# not sure why but you do add a dummy axis and increase the dimensionality of the data\n",
    "print('the dimension of h[:,np.newaxis,:,:] is', h[:,np.newaxis,:,:].shape, ', and the axes are')\n",
    "[print(ax) for ax in h[:,np.newaxis,:,:].axes]\n",
    "\n",
    "# ---------------\n",
    "# from now on we demonstrate the advance indexing, in which case the return is an ndarray\n",
    "print('\\n------------------------- advanced indexing -----------------------------')\n",
    "print('---------------------------- EXAMPLE 8 ---------------------------------')\n",
    "print('result of h[h<15] is ', type(h[h<15]))\n",
    "print(h[h<15])\n",
    "\n",
    "\n",
    "print('\\n---------------------------- EXAMPLE 9 ---------------------------------')\n",
    "print('result of h[[0, 1, 2], [0, 1, 0]] is ', type(h[[0, 1, 2], [0, 1, 0]]))\n",
    "print(h[[0, 1, 2], [0, 1, 0]])\n",
    "\n",
    "print('\\n---------------------------- EXAMPLE 10 ---------------------------------')\n",
    "# Although the actrual data is the same as h[1:2, 1:2], the following result in an ndarray instead of H5Data\n",
    "print('result of h[1:2, [1, 2]] is ', type(h[1:2, [1, 2]]))\n",
    "print(h[1:2, [1, 2]])\n",
    "\n",
    "print('\\n---------------------------- EXAMPLE 11 ---------------------------------')\n",
    "# The return of advance indexing is the *actual* data itself, not a copy. Changing it will change the original data\n",
    "h[:6, [1, 2, 4, 5]] = 0\n",
    "print('After setting h[:6, [1, 2, 4, 5]] to 0, print the content of h:\\n', h.view(np.ndarray))\n"
   ]
  },
  {
   "cell_type": "markdown",
   "metadata": {
    "collapsed": true
   },
   "source": [
    "## Conclusion\n",
    "In this notebook we walked through the basic input/output, arithmetic and a few frequently used functions for the H5Data and learned about the indexing/slicing behaviors of H5Data. More functionalities, such as indexing by axes values, can be found in the source files docstrings."
   ]
  },
  {
   "cell_type": "code",
   "execution_count": null,
   "metadata": {
    "collapsed": true
   },
   "outputs": [],
   "source": []
  }
 ],
 "metadata": {
  "kernelspec": {
   "display_name": "Python [default]",
   "language": "python",
   "name": "python3"
  },
  "language_info": {
   "codemirror_mode": {
    "name": "ipython",
    "version": 3
   },
   "file_extension": ".py",
   "mimetype": "text/x-python",
   "name": "python",
   "nbconvert_exporter": "python",
   "pygments_lexer": "ipython3",
   "version": "3.5.4"
  }
 },
 "nbformat": 4,
 "nbformat_minor": 2
}
